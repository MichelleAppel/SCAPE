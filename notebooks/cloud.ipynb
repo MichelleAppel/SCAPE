{
 "cells": [
  {
   "cell_type": "markdown",
   "id": "86d74fbe",
   "metadata": {},
   "source": [
    "# Cloud detection for ESA proposal"
   ]
  },
  {
   "cell_type": "code",
   "execution_count": 10,
   "id": "529330b5",
   "metadata": {},
   "outputs": [
    {
     "name": "stdout",
     "output_type": "stream",
     "text": [
      "ID: a5f25b81-3ef5-4ee9-bce0-5b1fcb33c8d7\n"
     ]
    }
   ],
   "source": [
    "%reload_ext autoreload\n",
    "%autoreload 2\n",
    "%matplotlib inline\n",
    "\n",
    "import datetime as dt\n",
    "\n",
    "import matplotlib.pyplot as plt\n",
    "import numpy as np\n",
    "\n",
    "from sentinelhub import CRS, BBox, DataCollection, MimeType, SentinelHubRequest, SHConfig, generate_evalscript\n",
    "from sentinelhub.api.catalog import get_available_timestamps\n",
    "\n",
    "from s2cloudless import S2PixelCloudDetector, download_bands_and_valid_data_mask\n",
    "\n",
    "config = SHConfig()\n",
    "\n",
    "# Paste your own values here:\n",
    "config.sh_client_id = \"a5f25b81-3ef5-4ee9-bce0-5b1fcb33c8d7\"\n",
    "config.sh_client_secret = \"I0f5P4Ono8tB9TEggF3dvzn43NXofkVy\"\n",
    "\n",
    "# Optional: verify it works\n",
    "print(\"ID:\", config.sh_client_id)"
   ]
  },
  {
   "cell_type": "code",
   "execution_count": 12,
   "id": "82730f0b",
   "metadata": {},
   "outputs": [
    {
     "name": "stdout",
     "output_type": "stream",
     "text": [
      "\n",
      "//VERSION=3\n",
      "\n",
      "function setup() {\n",
      "    return {\n",
      "        input: [{\n",
      "            bands: [\"B01\", \"B02\", \"B03\", \"B04\", \"B05\", \"B06\", \"B07\", \"B08\", \"B8A\", \"B09\", \"B10\", \"B11\", \"B12\", \"dataMask\"],\n",
      "            units: [\"REFLECTANCE\", \"REFLECTANCE\", \"REFLECTANCE\", \"REFLECTANCE\", \"REFLECTANCE\", \"REFLECTANCE\", \"REFLECTANCE\", \"REFLECTANCE\", \"REFLECTANCE\", \"REFLECTANCE\", \"REFLECTANCE\", \"REFLECTANCE\", \"REFLECTANCE\", \"DN\"]\n",
      "        }],\n",
      "        output: [{id: \"bands\", bands: 13, sampleType: \"FLOAT32\"}, {id: \"dataMask\", bands: 1, sampleType: \"UINT8\"}]\n",
      "    }\n",
      "}\n",
      "\n",
      "function updateOutputMetadata(scenes, inputMetadata, outputMetadata) {\n",
      "    outputMetadata.userData = {\n",
      "        \"norm_factor\":  inputMetadata.normalizationFactor\n",
      "    }\n",
      "}\n",
      "\n",
      "function evaluatePixel(sample) {\n",
      "    return { bands: [sample.B01, sample.B02, sample.B03, sample.B04, sample.B05, sample.B06, sample.B07, sample.B08, sample.B8A, sample.B09, sample.B10, sample.B11, sample.B12], dataMask: [sample.dataMask] };\n",
      "}\n",
      "\n"
     ]
    }
   ],
   "source": [
    "bbox = BBox(((725000, 1595000), (735000, 1610000)), crs=CRS(\"32615\"))\n",
    "\n",
    "data_collection = DataCollection.SENTINEL2_L1C\n",
    "evalscript = generate_evalscript(\n",
    "    data_collection=data_collection,\n",
    "    meta_bands=[\"dataMask\"],\n",
    "    merged_bands_output=\"bands\",\n",
    "    prioritize_dn=False,\n",
    ")\n",
    "\n",
    "print(evalscript)"
   ]
  },
  {
   "cell_type": "code",
   "execution_count": 13,
   "id": "c49c16aa",
   "metadata": {},
   "outputs": [
    {
     "data": {
      "text/plain": [
       "((1500, 1000, 13), (1500, 1000))"
      ]
     },
     "execution_count": 13,
     "metadata": {},
     "output_type": "execute_result"
    }
   ],
   "source": [
    "request = SentinelHubRequest(\n",
    "    evalscript=evalscript,\n",
    "    input_data=[SentinelHubRequest.input_data(data_collection=data_collection, time_interval=\"2017-12-01\")],\n",
    "    responses=[\n",
    "        SentinelHubRequest.output_response(\"bands\", MimeType.TIFF),\n",
    "        SentinelHubRequest.output_response(\"dataMask\", MimeType.TIFF),\n",
    "    ],\n",
    "    bbox=bbox,\n",
    "    resolution=(10, 10),\n",
    "    config=config,\n",
    ")\n",
    "\n",
    "data = request.get_data()[0]\n",
    "\n",
    "bands = data[\"bands.tif\"]\n",
    "mask = data[\"dataMask.tif\"]\n",
    "\n",
    "bands.shape, mask.shape"
   ]
  }
 ],
 "metadata": {
  "kernelspec": {
   "display_name": "Python 3 (ipykernel)",
   "language": "python",
   "name": "python3"
  },
  "language_info": {
   "codemirror_mode": {
    "name": "ipython",
    "version": 3
   },
   "file_extension": ".py",
   "mimetype": "text/x-python",
   "name": "python",
   "nbconvert_exporter": "python",
   "pygments_lexer": "ipython3",
   "version": "3.8.20"
  }
 },
 "nbformat": 4,
 "nbformat_minor": 5
}
