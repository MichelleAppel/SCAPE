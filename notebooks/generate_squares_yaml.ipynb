{
 "cells": [
  {
   "cell_type": "code",
   "execution_count": 20,
   "id": "1eefda0b",
   "metadata": {},
   "outputs": [],
   "source": [
    "import yaml\n",
    "import numpy as np\n",
    "\n",
    "corners = [(10, 0), (20, 0), (30, 0), (40, 0),\n",
    "           (-10, 0), (-20, 0), (-30, 0), (-40, 0),\n",
    "           (0, 10), (0, 20), (0, 30),\n",
    "           (0, 40), (0, -10), (0, -20)]\n",
    "spacing = 0.4\n",
    "electrodes = 10\n",
    "\n",
    "\n",
    "x, y = [], []\n",
    "for cx, cy in corners:\n",
    "    for x_ in [*np.linspace(cx,cx+electrodes*spacing,electrodes, endpoint=False)]:\n",
    "        for y_ in [*np.linspace(cy,cy+electrodes*spacing,electrodes, endpoint=False)]:\n",
    "            x.append(float(x_))\n",
    "            y.append(float(y_))\n",
    "            \n",
    "            \n",
    "coords = {'x':x, 'y':y}\n",
    "coords\n",
    "\n",
    "with open('../electrode_schemes/squares_test.yaml', 'w') as file:\n",
    "    yaml.dump(coords,file)"
   ]
  },
  {
   "cell_type": "code",
   "execution_count": null,
   "id": "9934f9d5",
   "metadata": {},
   "outputs": [],
   "source": []
  }
 ],
 "metadata": {
  "kernelspec": {
   "display_name": "ML",
   "language": "python",
   "name": "python3"
  },
  "language_info": {
   "codemirror_mode": {
    "name": "ipython",
    "version": 3
   },
   "file_extension": ".py",
   "mimetype": "text/x-python",
   "name": "python",
   "nbconvert_exporter": "python",
   "pygments_lexer": "ipython3",
   "version": "3.8.19"
  }
 },
 "nbformat": 4,
 "nbformat_minor": 5
}
