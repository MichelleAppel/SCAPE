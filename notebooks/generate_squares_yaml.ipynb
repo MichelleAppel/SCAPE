{
 "cells": [
  {
   "cell_type": "code",
   "execution_count": 2,
   "id": "1eefda0b",
   "metadata": {},
   "outputs": [],
   "source": [
    "import yaml\n",
    "import numpy as np\n",
    "\n",
    "corners = [(0, -3)]\n",
    "spacing = 0.4\n",
    "electrodes = 10\n",
    "\n",
    "x, y = [], []\n",
    "for cx, cy in corners:\n",
    "    for x_ in [*np.linspace(cx,cx+electrodes*spacing,electrodes, endpoint=False)]:\n",
    "        for y_ in [*np.linspace(cy,cy+electrodes*spacing,electrodes, endpoint=False)]:\n",
    "            x.append(float(x_))\n",
    "            y.append(float(y_))\n",
    "            \n",
    "            \n",
    "coords = {'x':x, 'y':y}\n",
    "coords\n",
    "\n",
    "with open('../electrode_schemes/1utaharray.yaml', 'w') as file:\n",
    "    yaml.dump(coords,file)"
   ]
  },
  {
   "cell_type": "code",
   "execution_count": 1,
   "id": "72066673",
   "metadata": {},
   "outputs": [
    {
     "name": "stdout",
     "output_type": "stream",
     "text": [
      "Wrote 32 by 32 grid centered at fovea to ../electrode_schemes/biggrid.yaml\n"
     ]
    }
   ],
   "source": [
    "import yaml\n",
    "import numpy as np\n",
    "\n",
    "# grid size and spacing\n",
    "n_electrodes = 32\n",
    "spacing = 0.4  # mm between adjacent electrodes\n",
    "\n",
    "# compute how far from center to edge\n",
    "half_extent = (n_electrodes - 1) * spacing / 2\n",
    "\n",
    "# generate equally‐spaced coordinates from -half_extent to +half_extent\n",
    "coords_x = np.linspace(-half_extent, half_extent, n_electrodes)\n",
    "coords_y = np.linspace(-half_extent, half_extent, n_electrodes)\n",
    "\n",
    "# form mesh of all (x,y) pairs\n",
    "x = []\n",
    "y = []\n",
    "for xi in coords_x:\n",
    "    for yi in coords_y:\n",
    "        x.append(float(xi))\n",
    "        y.append(float(yi))\n",
    "\n",
    "# pack into a dict and dump to yaml\n",
    "coords = {'x': x, 'y': y}\n",
    "output_path = '../electrode_schemes/biggrid.yaml'\n",
    "with open(output_path, 'w') as f:\n",
    "    yaml.dump(coords, f)\n",
    "\n",
    "print(f'Wrote {n_electrodes} by {n_electrodes} grid centered at fovea to {output_path}')\n"
   ]
  }
 ],
 "metadata": {
  "kernelspec": {
   "display_name": "ML",
   "language": "python",
   "name": "python3"
  },
  "language_info": {
   "codemirror_mode": {
    "name": "ipython",
    "version": 3
   },
   "file_extension": ".py",
   "mimetype": "text/x-python",
   "name": "python",
   "nbconvert_exporter": "python",
   "pygments_lexer": "ipython3",
   "version": "3.8.20"
  }
 },
 "nbformat": 4,
 "nbformat_minor": 5
}
